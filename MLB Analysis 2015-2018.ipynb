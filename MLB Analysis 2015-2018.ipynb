{
 "cells": [
  {
   "cell_type": "markdown",
   "metadata": {},
   "source": [
    "# MLB Analysis "
   ]
  },
  {
   "cell_type": "code",
   "execution_count": null,
   "metadata": {},
   "outputs": [],
   "source": [
    "import numpy as np\n",
    "import pandas as pd \n",
    "import seaborn as sns\n",
    "import plotly.offline as py\n",
    "from plotly.offline import init_notebook_mode, iplot\n",
    "import plotly.graph_objs as go\n",
    "from plotly import tools\n",
    "init_notebook_mode(connected=True)  \n",
    "import plotly.figure_factory as ff\n",
    "import matplotlib.pyplot as plt\n",
    "import os\n",
    "from shutil import copyfile\n",
    "from selenium import webdriver\n",
    "if not os.path.exists(\"Output\"): os.mkdir(\"Output\")\n",
    "\n",
    "print(os.listdir(\"Data\"))"
   ]
  },
  {
   "cell_type": "code",
   "execution_count": null,
   "metadata": {},
   "outputs": [],
   "source": [
    "pitches = pd.read_csv(\"Data/pitches.csv\")\n",
    "pitches.head()"
   ]
  },
  {
   "cell_type": "code",
   "execution_count": null,
   "metadata": {},
   "outputs": [],
   "source": [
    "games = pd.read_csv(\"Data/games.csv\")\n",
    "games.head()"
   ]
  },
  {
   "cell_type": "code",
   "execution_count": null,
   "metadata": {},
   "outputs": [],
   "source": [
    "atbats = pd.read_csv(\"Data/atbats.csv\")\n",
    "atbats.head()"
   ]
  },
  {
   "cell_type": "code",
   "execution_count": null,
   "metadata": {},
   "outputs": [],
   "source": [
    "player_name = pd.read_csv(\"Data/player_names.csv\")\n",
    "player_name.head()"
   ]
  },
  {
   "cell_type": "code",
   "execution_count": null,
   "metadata": {},
   "outputs": [],
   "source": [
    "ejections = pd.read_csv(\"Data/ejections.csv\")\n",
    "ejections.head()"
   ]
  },
  {
   "cell_type": "code",
   "execution_count": null,
   "metadata": {},
   "outputs": [],
   "source": [
    "ejections.dtypes"
   ]
  },
  {
   "cell_type": "code",
   "execution_count": null,
   "metadata": {},
   "outputs": [],
   "source": [
    "games.dtypes"
   ]
  },
  {
   "cell_type": "code",
   "execution_count": null,
   "metadata": {},
   "outputs": [],
   "source": [
    "player_name.dtypes"
   ]
  },
  {
   "cell_type": "code",
   "execution_count": null,
   "metadata": {},
   "outputs": [],
   "source": [
    "atbats.dtypes"
   ]
  },
  {
   "cell_type": "code",
   "execution_count": null,
   "metadata": {},
   "outputs": [],
   "source": [
    "pitches.dtypes"
   ]
  },
  {
   "cell_type": "code",
   "execution_count": null,
   "metadata": {},
   "outputs": [],
   "source": [
    "pitches['ab_id'] = pitches['ab_id'].astype(int)"
   ]
  },
  {
   "cell_type": "code",
   "execution_count": null,
   "metadata": {},
   "outputs": [],
   "source": [
    "player_name.rename(columns={'id': 'batter_id'}, inplace=True)"
   ]
  },
  {
   "cell_type": "code",
   "execution_count": null,
   "metadata": {},
   "outputs": [],
   "source": [
    "new_df = pd.merge(pitches, atbats,  how='left', left_on='ab_id', right_on = 'ab_id')\n",
    "new_df.head()"
   ]
  },
  {
   "cell_type": "code",
   "execution_count": null,
   "metadata": {},
   "outputs": [],
   "source": [
    "new_df1 = pd.merge(new_df, games,  how='left', left_on='g_id', right_on = 'g_id')\n",
    "new_df1.head()"
   ]
  },
  {
   "cell_type": "code",
   "execution_count": null,
   "metadata": {},
   "outputs": [],
   "source": [
    "new_df2 = pd.merge(new_df1, player_name,  how='left', left_on='batter_id', right_on = 'batter_id')\n",
    "new_df2.head()"
   ]
  },
  {
   "cell_type": "code",
   "execution_count": null,
   "metadata": {},
   "outputs": [],
   "source": [
    "new_df2['Batters Name'] = new_df2[['first_name', 'last_name']].apply(lambda x: ' '.join(x), axis=1)"
   ]
  },
  {
   "cell_type": "code",
   "execution_count": null,
   "metadata": {},
   "outputs": [],
   "source": [
    "new_df2.drop(['first_name', 'last_name'], axis=1, inplace=True)"
   ]
  },
  {
   "cell_type": "code",
   "execution_count": null,
   "metadata": {},
   "outputs": [],
   "source": [
    "player_name.rename(columns={'batter_id': 'pitcher_id'}, inplace=True)"
   ]
  },
  {
   "cell_type": "code",
   "execution_count": null,
   "metadata": {},
   "outputs": [],
   "source": [
    "final_df = pd.merge(new_df2, player_name,  how='left', left_on='pitcher_id', right_on = 'pitcher_id')\n",
    "final_df.head()"
   ]
  },
  {
   "cell_type": "code",
   "execution_count": null,
   "metadata": {},
   "outputs": [],
   "source": [
    "final_df['Pitchers Name'] = final_df[['first_name', 'last_name']].apply(lambda x: ' '.join(x), axis=1)"
   ]
  },
  {
   "cell_type": "code",
   "execution_count": null,
   "metadata": {},
   "outputs": [],
   "source": [
    "final_df.drop(['first_name', 'last_name'], axis=1, inplace=True)"
   ]
  },
  {
   "cell_type": "markdown",
   "metadata": {},
   "source": [
    "# Top pitcher's count"
   ]
  },
  {
   "cell_type": "code",
   "execution_count": null,
   "metadata": {},
   "outputs": [],
   "source": [
    "final_df['Pitchers Name'].value_counts()"
   ]
  },
  {
   "cell_type": "code",
   "execution_count": null,
   "metadata": {},
   "outputs": [],
   "source": [
    "final_df['pitch_type'] = final_df['pitch_type'].map({\n",
    "    'FF': 'Four Seam Fastball', 'SL': 'Slider', 'FT': 'Two seam fastball',\n",
    "    'CH': 'Changeup', 'SI': 'Sinker', 'CU': 'Curveball', 'FC': 'Cutter', \n",
    "    'KC': 'Knuckle Curve', 'FS': 'Splitter','KN': 'Knuckleball', 'EP': 'Eephus', \n",
    "    'FO': 'Pitch Out', 'PO': 'Pitch Out', 'SC': 'Screwball', 'UN': 'Unidentified', \n",
    "    'FA': 'Fastball', 'IN': 'Intentional Ball'})"
   ]
  },
  {
   "cell_type": "code",
   "execution_count": null,
   "metadata": {},
   "outputs": [],
   "source": [
    "final_df['code'] = final_df['code'].map({\n",
    "    'B': 'Ball', '*B': 'Ball in dirt', 'S': 'Swinging Strike', \n",
    "    'C': 'Called Strike', 'F': 'Foul', 'T': 'Foul Tip', 'L': 'Foul Bunt', \n",
    "    'I': 'Intentional Ball', 'W': 'Blocked','M': 'Missed Bunt', 'P': 'Pitch Out', \n",
    "    'Q': 'Swinging Pitch Out', 'R': 'Foul Pitch Out', 'X': 'In play out(s)', 'D': \n",
    "    'In play no out', 'E': 'In play runs'})"
   ]
  },
  {
   "cell_type": "code",
   "execution_count": null,
   "metadata": {},
   "outputs": [],
   "source": [
    "final_df.head()"
   ]
  },
  {
   "cell_type": "code",
   "execution_count": null,
   "metadata": {},
   "outputs": [],
   "source": [
    "final_df.to_csv(\"MLB_Analysis.csv\")"
   ]
  },
  {
   "cell_type": "code",
   "execution_count": null,
   "metadata": {},
   "outputs": [],
   "source": [
    "grp = final_df.groupby(['Pitchers Name'])[[\"s_count\"]].sum()"
   ]
  },
  {
   "cell_type": "code",
   "execution_count": null,
   "metadata": {},
   "outputs": [],
   "source": [
    "grp1 = final_df.groupby(['Batters Name'])[[\"b_count\"]].sum()"
   ]
  },
  {
   "cell_type": "code",
   "execution_count": null,
   "metadata": {},
   "outputs": [],
   "source": [
    "grp.head()"
   ]
  },
  {
   "cell_type": "code",
   "execution_count": null,
   "metadata": {},
   "outputs": [],
   "source": [
    "grp1.head()"
   ]
  },
  {
   "cell_type": "code",
   "execution_count": null,
   "metadata": {},
   "outputs": [],
   "source": [
    "ERA = grp.s_count / len (final_df)"
   ]
  },
  {
   "cell_type": "code",
   "execution_count": null,
   "metadata": {},
   "outputs": [],
   "source": [
    "BA = grp1.b_count / len (final_df) * 100"
   ]
  },
  {
   "cell_type": "markdown",
   "metadata": {},
   "source": [
    "# Top performing pitchers"
   ]
  },
  {
   "cell_type": "code",
   "execution_count": null,
   "metadata": {},
   "outputs": [],
   "source": [
    "ERA.sort_values(ascending=False)"
   ]
  },
  {
   "cell_type": "markdown",
   "metadata": {},
   "source": [
    "# Top performing batters"
   ]
  },
  {
   "cell_type": "code",
   "execution_count": null,
   "metadata": {},
   "outputs": [],
   "source": [
    "BA.sort_values(ascending=False)"
   ]
  },
  {
   "cell_type": "markdown",
   "metadata": {},
   "source": [
    "# Top 2 Pitchers"
   ]
  },
  {
   "cell_type": "markdown",
   "metadata": {},
   "source": [
    "# Max Scherzer"
   ]
  },
  {
   "cell_type": "code",
   "execution_count": null,
   "metadata": {},
   "outputs": [],
   "source": [
    "Max_Scherzer = final_df[final_df['Pitchers Name'] == 'Max Scherzer']\n",
    "Max_Scherzer.head()"
   ]
  },
  {
   "cell_type": "markdown",
   "metadata": {},
   "source": [
    "# Pitch type of Max Scherzer"
   ]
  },
  {
   "cell_type": "code",
   "execution_count": null,
   "metadata": {},
   "outputs": [],
   "source": [
    "Max_Scherzer['pitch_type'].value_counts() / len(Max_Scherzer) * 100"
   ]
  },
  {
   "cell_type": "markdown",
   "metadata": {},
   "source": [
    "# What happened mostly when Max Scherzer pitched?"
   ]
  },
  {
   "cell_type": "code",
   "execution_count": null,
   "metadata": {},
   "outputs": [],
   "source": [
    "Max_Scherzer['event'].value_counts() / len(Max_Scherzer) * 100"
   ]
  },
  {
   "cell_type": "markdown",
   "metadata": {},
   "source": [
    "# Relationship to pitches and event occurred"
   ]
  },
  {
   "cell_type": "code",
   "execution_count": null,
   "metadata": {},
   "outputs": [],
   "source": [
    "size = [20, 40, 60, 80, 100, 80, 60, 40, 20, 40]\n",
    "data = [dict(\n",
    "  type = 'scatter',\n",
    "  x = Max_Scherzer['event'],\n",
    "  y = Max_Scherzer['pitch_type'],\n",
    "  mode='markers',\n",
    "    marker=dict(\n",
    "        size=size,\n",
    "        sizemode='area',\n",
    "        sizeref=2.*max(size)/(40.**2),\n",
    "        sizemin=4\n",
    "    ),\n",
    "    transforms = [dict(\n",
    "        type = 'groupby',\n",
    "        groups = Max_Scherzer['pitch_type'],\n",
    "   \n",
    "  )]\n",
    ")]\n",
    "\n",
    "py.iplot({'data': data}, validate=False)"
   ]
  },
  {
   "cell_type": "code",
   "execution_count": null,
   "metadata": {},
   "outputs": [],
   "source": [
    "import random\n",
    "def random_colors(number_of_colors):\n",
    "    color = [\"#\"+''.join([random.choice('0123456789ABCDEF') for j in range(6)])\n",
    "                 for i in range(number_of_colors)]\n",
    "    return color"
   ]
  },
  {
   "cell_type": "markdown",
   "metadata": {},
   "source": [
    "# Where max scherzer's ball pitches on the plate?"
   ]
  },
  {
   "cell_type": "code",
   "execution_count": null,
   "metadata": {},
   "outputs": [],
   "source": [
    "trace0 = go.Scatter(\n",
    "    x = Max_Scherzer.px[Max_Scherzer.pitch_type == 'Four Seam Fastball'],\n",
    "    y = Max_Scherzer.pz[Max_Scherzer.pitch_type == 'Four Seam Fastball'],\n",
    "    name = 'Four Seam FastBall',\n",
    "    mode = 'markers',\n",
    "    marker = dict(\n",
    "        size = 10,\n",
    "        color = 'rgba(152, 0, 0, .8)',\n",
    "        line = dict(\n",
    "            width = 2,\n",
    "            color = 'rgba(152, 0, 0, .8)'\n",
    "        )\n",
    "    )\n",
    ")\n",
    "\n",
    "trace1 = go.Scatter(\n",
    "    x = Max_Scherzer.px[Max_Scherzer.pitch_type == 'Slider'],\n",
    "    y = Max_Scherzer.pz[Max_Scherzer.pitch_type == 'Slider'],\n",
    "    name = 'Slider',\n",
    "    mode = 'markers',\n",
    "    marker = dict(\n",
    "        size = 10,\n",
    "        color = 'rgba(22, 0, 0, .8)',\n",
    "        line = dict(\n",
    "            width = 2,\n",
    "            color = 'rgba(22, 0, 0, .8)'\n",
    "        )\n",
    "    )\n",
    ")\n",
    "\n",
    "trace2 = go.Scatter(\n",
    "    x = Max_Scherzer.px[Max_Scherzer.pitch_type == 'Changeup'],\n",
    "    y = Max_Scherzer.pz[Max_Scherzer.pitch_type == 'Changeup'],\n",
    "    name = 'Changeup',\n",
    "    mode = 'markers',\n",
    "    marker = dict(\n",
    "        size = 10,\n",
    "        color = 'rgba(224, 0, 0, .8)',\n",
    "        line = dict(\n",
    "            width = 2,\n",
    "            color = 'rgba(224, 0, 0, .8)'\n",
    "        )\n",
    "    )\n",
    ")\n",
    "\n",
    "trace3 = go.Scatter(\n",
    "    x = Max_Scherzer.px[Max_Scherzer.pitch_type == 'Curveball'],\n",
    "    y = Max_Scherzer.pz[Max_Scherzer.pitch_type == 'Curveball'],\n",
    "    name = 'Curveball',\n",
    "    mode = 'markers',\n",
    "    marker = dict(\n",
    "        size = 10,\n",
    "        color = 'rgba(22, 1, 0, .8)',\n",
    "        line = dict(\n",
    "            width = 2,\n",
    "            color = 'rgba(22, 1, 0, .8)'\n",
    "        )\n",
    "    )\n",
    ")\n",
    "\n",
    "trace4 = go.Scatter(\n",
    "    x = Max_Scherzer.px[Max_Scherzer.pitch_type == 'Cutter'],\n",
    "    y = Max_Scherzer.pz[Max_Scherzer.pitch_type == 'Cutter'],\n",
    "    name = 'Cutter',\n",
    "    mode = 'markers',\n",
    "    marker = dict(\n",
    "        size = 10,\n",
    "        color = 'rgba(2, 1, 0, .8)',\n",
    "        line = dict(\n",
    "            width = 2,\n",
    "            color = 'rgba(2, 1, 0, .8)'\n",
    "        )\n",
    "    )\n",
    ")\n",
    "\n",
    "trace5 = go.Scatter(\n",
    "    x = Max_Scherzer.px[Max_Scherzer.pitch_type == 'Two Seam Fastball'],\n",
    "    y = Max_Scherzer.pz[Max_Scherzer.pitch_type == 'Two Seam Fastball'],\n",
    "    name = 'Two Seam Fastball',\n",
    "    mode = 'markers',\n",
    "    marker = dict(\n",
    "        size = 10,\n",
    "        color = 'rgba(222, 1, 0, .8)',\n",
    "        line = dict(\n",
    "            width = 2,\n",
    "            color = 'rgba(222, 1, 0, .8)'\n",
    "        )\n",
    "    )\n",
    ")\n",
    "\n",
    "\n",
    "\n",
    "data = [trace0, trace1,trace2, trace3, trace4, trace5]\n",
    "\n",
    "layout = dict(title = 'Pitch types of Max Scherzer ',\n",
    "              plot_bgcolor='rgb(50,205,50)',\n",
    "              yaxis = dict(zeroline = False),\n",
    "              xaxis = dict(zeroline = False)\n",
    "             )\n",
    "\n",
    "fig = dict(data=data, layout=layout)\n",
    "py.iplot(fig, filename='styled-scatter')"
   ]
  },
  {
   "cell_type": "markdown",
   "metadata": {},
   "source": [
    "# Does max scherzer's speed of pitching goes down as inning proceed?"
   ]
  },
  {
   "cell_type": "code",
   "execution_count": null,
   "metadata": {},
   "outputs": [],
   "source": [
    "ax = sns.lineplot(x=\"inning\", y=\"start_speed\", hue=\"pitch_type\", data=Max_Scherzer)\n",
    "plt.savefig(\"Output/Max_scherzer's_speed.png\")"
   ]
  },
  {
   "cell_type": "markdown",
   "metadata": {},
   "source": [
    "# Justin Verlander"
   ]
  },
  {
   "cell_type": "code",
   "execution_count": null,
   "metadata": {},
   "outputs": [],
   "source": [
    "Justin_Verlander = final_df[final_df['Pitchers Name'] == 'Justin Verlander']\n",
    "Justin_Verlander.head()"
   ]
  },
  {
   "cell_type": "markdown",
   "metadata": {},
   "source": [
    "# Justin Verlander's pitching"
   ]
  },
  {
   "cell_type": "code",
   "execution_count": null,
   "metadata": {},
   "outputs": [],
   "source": [
    "Justin_Verlander['pitch_type'].value_counts() / len(Justin_Verlander) * 100"
   ]
  },
  {
   "cell_type": "markdown",
   "metadata": {},
   "source": [
    "# What happens mostly when justin verlander pitches?"
   ]
  },
  {
   "cell_type": "code",
   "execution_count": null,
   "metadata": {},
   "outputs": [],
   "source": [
    "Justin_Verlander['event'].value_counts() / len(Justin_Verlander) * 100"
   ]
  },
  {
   "cell_type": "markdown",
   "metadata": {},
   "source": [
    "# Relationship between pitching and event occurred"
   ]
  },
  {
   "cell_type": "code",
   "execution_count": null,
   "metadata": {},
   "outputs": [],
   "source": [
    "size = [20, 40, 60, 80, 100, 80, 60, 40, 20, 40]\n",
    "data = [dict(\n",
    "  type = 'scatter',\n",
    "  x = Justin_Verlander['event'],\n",
    "  y = Justin_Verlander['pitch_type'],\n",
    "  mode='markers',\n",
    "    marker=dict(\n",
    "        size=size,\n",
    "        sizemode='area',\n",
    "        sizeref=2.*max(size)/(40.**2),\n",
    "        sizemin=4\n",
    "    ),\n",
    "    transforms = [dict(\n",
    "        type = 'groupby',\n",
    "        groups = Justin_Verlander['pitch_type'],\n",
    "   \n",
    "  )]\n",
    ")]\n",
    "\n",
    "py.iplot({'data': data}, validate=False)"
   ]
  },
  {
   "cell_type": "markdown",
   "metadata": {},
   "source": [
    "# Where does Justin verlander mostly piches on the plate?"
   ]
  },
  {
   "cell_type": "code",
   "execution_count": null,
   "metadata": {},
   "outputs": [],
   "source": [
    "trace0 = go.Scatter(\n",
    "    x = Justin_Verlander.px[Justin_Verlander.pitch_type == 'Four Seam Fastball'],\n",
    "    y = Justin_Verlander.pz[Justin_Verlander.pitch_type == 'Four Seam Fastball'],\n",
    "    name = 'Four Seam FastBall',\n",
    "    mode = 'markers',\n",
    "    marker = dict(\n",
    "        size = 10,\n",
    "        color = 'rgba(152, 0, 0, .8)',\n",
    "        line = dict(\n",
    "            width = 2,\n",
    "            color = 'rgba(152, 0, 0, .8)'\n",
    "        )\n",
    "    )\n",
    ")\n",
    "\n",
    "trace1 = go.Scatter(\n",
    "    x = Justin_Verlander.px[Justin_Verlander.pitch_type == 'Slider'],\n",
    "    y = Justin_Verlander.pz[Justin_Verlander.pitch_type == 'Slider'],\n",
    "    name = 'Slider',\n",
    "    mode = 'markers',\n",
    "    marker = dict(\n",
    "        size = 10,\n",
    "        color = 'rgba(22, 0, 0, .8)',\n",
    "        line = dict(\n",
    "            width = 2,\n",
    "            color = 'rgba(22, 0, 0, .8)'\n",
    "        )\n",
    "    )\n",
    ")\n",
    "\n",
    "trace2 = go.Scatter(\n",
    "    x = Justin_Verlander.px[Justin_Verlander.pitch_type == 'Changeup'],\n",
    "    y = Justin_Verlander.pz[Justin_Verlander.pitch_type == 'Changeup'],\n",
    "    name = 'Changeup',\n",
    "    mode = 'markers',\n",
    "    marker = dict(\n",
    "        size = 10,\n",
    "        color = 'rgba(224, 0, 0, .8)',\n",
    "        line = dict(\n",
    "            width = 2,\n",
    "            color = 'rgba(224, 0, 0, .8)'\n",
    "        )\n",
    "    )\n",
    ")\n",
    "\n",
    "trace3 = go.Scatter(\n",
    "    x = Justin_Verlander.px[Justin_Verlander.pitch_type == 'Curveball'],\n",
    "    y = Justin_Verlander.pz[Justin_Verlander.pitch_type == 'Curveball'],\n",
    "    name = 'Curveball',\n",
    "    mode = 'markers',\n",
    "    marker = dict(\n",
    "        size = 10,\n",
    "        color = 'rgba(22, 1, 0, .8)',\n",
    "        line = dict(\n",
    "            width = 2,\n",
    "            color = 'rgba(22, 1, 0, .8)'\n",
    "        )\n",
    "    )\n",
    ")\n",
    "\n",
    "trace4 = go.Scatter(\n",
    "    x = Justin_Verlander.px[Justin_Verlander.pitch_type == 'Cutter'],\n",
    "    y = Justin_Verlander.pz[Justin_Verlander.pitch_type == 'Cutter'],\n",
    "    name = 'Cutter',\n",
    "    mode = 'markers',\n",
    "    marker = dict(\n",
    "        size = 10,\n",
    "        color = 'rgba(2, 1, 0, .8)',\n",
    "        line = dict(\n",
    "            width = 2,\n",
    "            color = 'rgba(2, 1, 0, .8)'\n",
    "        )\n",
    "    )\n",
    ")\n",
    "\n",
    "trace5 = go.Scatter(\n",
    "    x = Justin_Verlander.px[Justin_Verlander.pitch_type == 'Two Seam Fastball'],\n",
    "    y = Justin_Verlander.pz[Justin_Verlander.pitch_type == 'Two Seam Fastball'],\n",
    "    name = 'Two Seam Fastball',\n",
    "    mode = 'markers',\n",
    "    marker = dict(\n",
    "        size = 10,\n",
    "        color = 'rgba(222, 1, 0, .8)',\n",
    "        line = dict(\n",
    "            width = 2,\n",
    "            color = 'rgba(222, 1, 0, .8)'\n",
    "        )\n",
    "    )\n",
    ")\n",
    "\n",
    "\n",
    "\n",
    "data = [trace0, trace1,trace2, trace3, trace4, trace5]\n",
    "\n",
    "layout = dict(title = 'Pitch types of Justin Verlander ',\n",
    "              plot_bgcolor='rgb(50,205,50)',\n",
    "              yaxis = dict(zeroline = False),\n",
    "              xaxis = dict(zeroline = False)\n",
    "             )\n",
    "\n",
    "fig = dict(data=data, layout=layout)\n",
    "py.iplot(fig, filename='styled-scatter')"
   ]
  },
  {
   "cell_type": "markdown",
   "metadata": {},
   "source": [
    "# Pitching speed as inning proceed"
   ]
  },
  {
   "cell_type": "code",
   "execution_count": null,
   "metadata": {},
   "outputs": [],
   "source": [
    "ax = sns.lineplot(x=\"inning\", y=\"start_speed\", hue=\"pitch_type\", data=Justin_Verlander)\n",
    "plt.savefig(\"Output/Justin_Verlander's_speed.png\")"
   ]
  },
  {
   "cell_type": "markdown",
   "metadata": {},
   "source": [
    "# Max vs Justin spin comparision"
   ]
  },
  {
   "cell_type": "code",
   "execution_count": null,
   "metadata": {},
   "outputs": [],
   "source": [
    "data = [\n",
    "    go.Scatterpolargl(\n",
    "      r = Justin_Verlander.pz,\n",
    "      theta = Justin_Verlander.spin_dir,\n",
    "      mode = \"markers\",\n",
    "      name = \"Justin Verlander\",\n",
    "      marker = dict(\n",
    "        color = \"rgb(27,158,119)\",\n",
    "        size = 15,\n",
    "        line = dict(\n",
    "          color = \"white\"\n",
    "        ),\n",
    "        opacity = 0.7\n",
    "      )\n",
    "    ),\n",
    "    go.Scatterpolargl(\n",
    "      r = Max_Scherzer.pz,\n",
    "      theta = Max_Scherzer.spin_dir,\n",
    "      mode = \"markers\",\n",
    "      name = \"Max Schrezer\",\n",
    "      marker = dict(\n",
    "        color = \"rgb(217,95,2)\",\n",
    "        size = 20,\n",
    "        line = dict(\n",
    "          color = \"white\"\n",
    "        ),\n",
    "        opacity = 0.7\n",
    "      )\n",
    "    ),\n",
    "]\n",
    "\n",
    "layout = go.Layout(\n",
    "    title = \"Justin Verlander vs Max Scherzer pitch spin\",\n",
    "    font = dict(\n",
    "      size = 15\n",
    "    ),\n",
    "    showlegend = False,\n",
    "    polar = dict(\n",
    "      bgcolor = \"rgb(223, 223, 223)\",\n",
    "      angularaxis = dict(\n",
    "        tickwidth = 2,\n",
    "        linewidth = 3,\n",
    "        layer = \"below traces\"\n",
    "      ),\n",
    "      radialaxis = dict(\n",
    "        side = \"counterclockwise\",\n",
    "        showline = True,\n",
    "        linewidth = 2,\n",
    "        tickwidth = 2,\n",
    "        gridcolor = \"white\",\n",
    "        gridwidth = 2\n",
    "      )\n",
    "    ),\n",
    "    paper_bgcolor = \"rgb(223, 223, 223)\"\n",
    ")\n",
    "\n",
    "fig = go.Figure(data=data, layout=layout)\n",
    "py.iplot(fig, filename='polar-webgl')\n",
    "plt.savefig(\"Output/Max_scherzer_vs_Justin_Verlander.png\")"
   ]
  },
  {
   "cell_type": "markdown",
   "metadata": {},
   "source": [
    "# Top 2 Batters"
   ]
  },
  {
   "cell_type": "markdown",
   "metadata": {},
   "source": [
    "# Joey Votto"
   ]
  },
  {
   "cell_type": "code",
   "execution_count": null,
   "metadata": {},
   "outputs": [],
   "source": [
    "Joey_Votto = final_df[final_df['Batters Name'] == 'Joey Votto']\n",
    "Joey_Votto.head()"
   ]
  },
  {
   "cell_type": "markdown",
   "metadata": {},
   "source": [
    "# Joey Votto striking efficiency"
   ]
  },
  {
   "cell_type": "code",
   "execution_count": null,
   "metadata": {},
   "outputs": [],
   "source": [
    "Joey_Votto['code'].value_counts() / len(Joey_Votto) * 100"
   ]
  },
  {
   "cell_type": "markdown",
   "metadata": {},
   "source": [
    "# Joey Votto batting events"
   ]
  },
  {
   "cell_type": "code",
   "execution_count": null,
   "metadata": {},
   "outputs": [],
   "source": [
    "Joey_Votto['event'].value_counts() / len(Joey_Votto) * 100"
   ]
  },
  {
   "cell_type": "markdown",
   "metadata": {},
   "source": [
    "# Relationship between striking event and game event"
   ]
  },
  {
   "cell_type": "code",
   "execution_count": null,
   "metadata": {},
   "outputs": [],
   "source": [
    "size = [20, 40, 60, 80, 100, 80, 60, 40, 20, 40]\n",
    "data = [dict(\n",
    "  type = 'scatter',\n",
    "  x = Joey_Votto['event'],\n",
    "  y = Joey_Votto['code'],\n",
    "  mode='markers',\n",
    "    marker=dict(\n",
    "        size=size,\n",
    "        sizemode='area',\n",
    "        sizeref=2.*max(size)/(40.**2),\n",
    "        sizemin=4\n",
    "    ),\n",
    "    transforms = [dict(\n",
    "        type = 'groupby',\n",
    "        groups = Joey_Votto['code'],\n",
    "   \n",
    "  )]\n",
    ")]\n",
    "\n",
    "py.iplot({'data': data}, validate=False)"
   ]
  },
  {
   "cell_type": "markdown",
   "metadata": {},
   "source": [
    "# How good joey performes as inning proceed?"
   ]
  },
  {
   "cell_type": "code",
   "execution_count": null,
   "metadata": {},
   "outputs": [],
   "source": [
    "ax = sns.lineplot(x=\"inning\", y=\"p_score\", hue=\"code\", data=Joey_Votto)\n",
    "plt.savefig(\"Output/Joey_Votto_performes_inning.png\")"
   ]
  },
  {
   "cell_type": "markdown",
   "metadata": {},
   "source": [
    "# Joey votto's home run zone"
   ]
  },
  {
   "cell_type": "code",
   "execution_count": null,
   "metadata": {},
   "outputs": [],
   "source": [
    "trace1 = go.Scatter3d(\n",
    "    x = Joey_Votto.x[Joey_Votto['event'] == 'Home Run'],\n",
    "    y = Joey_Votto.y[Joey_Votto['event'] == 'Home Run'],\n",
    "    z = Joey_Votto.z0[Joey_Votto['event'] == 'Home Run'],\n",
    "    text = 'Home Run',\n",
    "    mode = 'markers',\n",
    "    marker = dict(\n",
    "        sizemode = 'diameter',\n",
    "        sizeref = 750, # info on sizeref: https://plot.ly/python/reference/#scatter-marker-sizeref\n",
    "        color = random_colors(1000),\n",
    "        )\n",
    ")\n",
    "data=[trace1]\n",
    "\n",
    "layout=go.Layout(width=800, height=800, title = 'Joey Votto Home Run Zone',\n",
    "              scene = dict(xaxis=dict(title='X axis',\n",
    "                                      titlefont=dict(color='Orange')),\n",
    "                            yaxis=dict(title='Y axis',\n",
    "                                       titlefont=dict(color='rgb(220, 220, 220)')),\n",
    "                            zaxis=dict(title='Z axis',\n",
    "                                       titlefont=dict(color='rgb(220, 220, 220)')),\n",
    "                            bgcolor = 'rgb(50,205,50)'\n",
    "                           )\n",
    "             )\n",
    "\n",
    "fig=go.Figure(data=data, layout=layout)\n",
    "py.iplot(fig, filename='solar_system_planet_size')"
   ]
  },
  {
   "cell_type": "markdown",
   "metadata": {},
   "source": [
    "# Paul Goldschmidt"
   ]
  },
  {
   "cell_type": "code",
   "execution_count": null,
   "metadata": {},
   "outputs": [],
   "source": [
    "PaulGoldschmidt = final_df[final_df['Batters Name'] == 'Paul Goldschmidt']\n",
    "PaulGoldschmidt.head()"
   ]
  },
  {
   "cell_type": "markdown",
   "metadata": {},
   "source": [
    "# Paul Goldschmidt's striking efficiency"
   ]
  },
  {
   "cell_type": "code",
   "execution_count": null,
   "metadata": {},
   "outputs": [],
   "source": [
    "PaulGoldschmidt['code'].value_counts() / len(PaulGoldschmidt) * 100"
   ]
  },
  {
   "cell_type": "markdown",
   "metadata": {},
   "source": [
    "# Paul Goldschmidt's batting events"
   ]
  },
  {
   "cell_type": "code",
   "execution_count": null,
   "metadata": {},
   "outputs": [],
   "source": [
    "PaulGoldschmidt['event'].value_counts() / len(PaulGoldschmidt) * 100"
   ]
  },
  {
   "cell_type": "markdown",
   "metadata": {},
   "source": [
    "# Relationship between striking event and game event of Paul"
   ]
  },
  {
   "cell_type": "code",
   "execution_count": null,
   "metadata": {},
   "outputs": [],
   "source": [
    "size = [20, 40, 60, 80, 100, 80, 60, 40, 20, 40]\n",
    "data = [dict(\n",
    "  type = 'scatter',\n",
    "  x = PaulGoldschmidt['event'],\n",
    "  y = PaulGoldschmidt['code'],\n",
    "  mode='markers',\n",
    "    marker=dict(\n",
    "        size=size,\n",
    "        sizemode='area',\n",
    "        sizeref=2.*max(size)/(40.**2),\n",
    "        sizemin=4\n",
    "    ),\n",
    "    transforms = [dict(\n",
    "        type = 'groupby',\n",
    "        groups = PaulGoldschmidt['code'],\n",
    "   \n",
    "  )]\n",
    ")]\n",
    "\n",
    "py.iplot({'data': data}, validate=False)"
   ]
  },
  {
   "cell_type": "markdown",
   "metadata": {},
   "source": [
    "# How good paul performes as inning proceed?"
   ]
  },
  {
   "cell_type": "code",
   "execution_count": null,
   "metadata": {},
   "outputs": [],
   "source": [
    "ax = sns.lineplot(x=\"inning\", y=\"p_score\", hue=\"code\", data=PaulGoldschmidt)\n",
    "plt.savefig(\"Output/Paul_Goldschmidt_performes_inning.png\")"
   ]
  },
  {
   "cell_type": "markdown",
   "metadata": {},
   "source": [
    "# Paul goldschmidt's home run zone"
   ]
  },
  {
   "cell_type": "code",
   "execution_count": null,
   "metadata": {},
   "outputs": [],
   "source": [
    "trace1 = go.Scatter3d(\n",
    "    x = PaulGoldschmidt.x[PaulGoldschmidt['event'] == 'Home Run'],\n",
    "    y = PaulGoldschmidt.y[PaulGoldschmidt['event'] == 'Home Run'],\n",
    "    z = PaulGoldschmidt.z0[PaulGoldschmidt['event'] == 'Home Run'],\n",
    "    text = 'Home Run',\n",
    "    mode = 'markers',\n",
    "    marker = dict(\n",
    "        sizemode = 'diameter',\n",
    "        sizeref = 750, # info on sizeref: https://plot.ly/python/reference/#scatter-marker-sizeref\n",
    "        color = random_colors(1000),\n",
    "        )\n",
    ")\n",
    "data=[trace1]\n",
    "\n",
    "layout=go.Layout(width=800, height=800, title = 'Paul Goldschmidt Home Run Zone',\n",
    "              scene = dict(xaxis=dict(title='X axis',\n",
    "                                      titlefont=dict(color='Orange')),\n",
    "                            yaxis=dict(title='Y axis',\n",
    "                                       titlefont=dict(color='rgb(220, 220, 220)')),\n",
    "                            zaxis=dict(title='Z axis',\n",
    "                                       titlefont=dict(color='rgb(220, 220, 220)')),\n",
    "                            bgcolor = 'rgb(50,205,50)'\n",
    "                           )\n",
    "             )\n",
    "\n",
    "fig=go.Figure(data=data, layout=layout)\n",
    "py.iplot(fig, filename='solar_system_planet_size')"
   ]
  }
 ],
 "metadata": {
  "kernelspec": {
   "display_name": "Python 3",
   "language": "python",
   "name": "python3"
  },
  "language_info": {
   "codemirror_mode": {
    "name": "ipython",
    "version": 3
   },
   "file_extension": ".py",
   "mimetype": "text/x-python",
   "name": "python",
   "nbconvert_exporter": "python",
   "pygments_lexer": "ipython3",
   "version": "3.7.3"
  }
 },
 "nbformat": 4,
 "nbformat_minor": 2
}
